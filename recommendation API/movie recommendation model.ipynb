{
 "cells": [
  {
   "cell_type": "markdown",
   "id": "804052e9",
   "metadata": {},
   "source": [
    "# Movie Recommendation Model"
   ]
  },
  {
   "cell_type": "code",
   "execution_count": 1,
   "id": "44a93733",
   "metadata": {},
   "outputs": [],
   "source": [
    "# import dependencies\n",
    "import pandas as pd\n",
    "import json"
   ]
  },
  {
   "cell_type": "code",
   "execution_count": 2,
   "id": "f8922c80",
   "metadata": {
    "scrolled": true
   },
   "outputs": [],
   "source": [
    "credits = pd.read_csv('tmdb_5000_credits.csv')\n",
    "movies = pd.read_csv('tmdb_5000_movies.csv')\n",
    "df = credits.merge(movies, on='title')"
   ]
  },
  {
   "cell_type": "code",
   "execution_count": 3,
   "id": "5401824a",
   "metadata": {},
   "outputs": [
    {
     "data": {
      "text/html": [
       "<div>\n",
       "<style scoped>\n",
       "    .dataframe tbody tr th:only-of-type {\n",
       "        vertical-align: middle;\n",
       "    }\n",
       "\n",
       "    .dataframe tbody tr th {\n",
       "        vertical-align: top;\n",
       "    }\n",
       "\n",
       "    .dataframe thead th {\n",
       "        text-align: right;\n",
       "    }\n",
       "</style>\n",
       "<table border=\"1\" class=\"dataframe\">\n",
       "  <thead>\n",
       "    <tr style=\"text-align: right;\">\n",
       "      <th></th>\n",
       "      <th>movie_id</th>\n",
       "      <th>title</th>\n",
       "      <th>overview</th>\n",
       "      <th>genres</th>\n",
       "      <th>keywords</th>\n",
       "      <th>cast</th>\n",
       "      <th>crew</th>\n",
       "    </tr>\n",
       "  </thead>\n",
       "  <tbody>\n",
       "    <tr>\n",
       "      <th>0</th>\n",
       "      <td>19995</td>\n",
       "      <td>Avatar</td>\n",
       "      <td>In the 22nd century, a paraplegic Marine is di...</td>\n",
       "      <td>[{\"id\": 28, \"name\": \"Action\"}, {\"id\": 12, \"nam...</td>\n",
       "      <td>[{\"id\": 1463, \"name\": \"culture clash\"}, {\"id\":...</td>\n",
       "      <td>[{\"cast_id\": 242, \"character\": \"Jake Sully\", \"...</td>\n",
       "      <td>[{\"credit_id\": \"52fe48009251416c750aca23\", \"de...</td>\n",
       "    </tr>\n",
       "    <tr>\n",
       "      <th>1</th>\n",
       "      <td>285</td>\n",
       "      <td>Pirates of the Caribbean: At World's End</td>\n",
       "      <td>Captain Barbossa, long believed to be dead, ha...</td>\n",
       "      <td>[{\"id\": 12, \"name\": \"Adventure\"}, {\"id\": 14, \"...</td>\n",
       "      <td>[{\"id\": 270, \"name\": \"ocean\"}, {\"id\": 726, \"na...</td>\n",
       "      <td>[{\"cast_id\": 4, \"character\": \"Captain Jack Spa...</td>\n",
       "      <td>[{\"credit_id\": \"52fe4232c3a36847f800b579\", \"de...</td>\n",
       "    </tr>\n",
       "  </tbody>\n",
       "</table>\n",
       "</div>"
      ],
      "text/plain": [
       "   movie_id                                     title  \\\n",
       "0     19995                                    Avatar   \n",
       "1       285  Pirates of the Caribbean: At World's End   \n",
       "\n",
       "                                            overview  \\\n",
       "0  In the 22nd century, a paraplegic Marine is di...   \n",
       "1  Captain Barbossa, long believed to be dead, ha...   \n",
       "\n",
       "                                              genres  \\\n",
       "0  [{\"id\": 28, \"name\": \"Action\"}, {\"id\": 12, \"nam...   \n",
       "1  [{\"id\": 12, \"name\": \"Adventure\"}, {\"id\": 14, \"...   \n",
       "\n",
       "                                            keywords  \\\n",
       "0  [{\"id\": 1463, \"name\": \"culture clash\"}, {\"id\":...   \n",
       "1  [{\"id\": 270, \"name\": \"ocean\"}, {\"id\": 726, \"na...   \n",
       "\n",
       "                                                cast  \\\n",
       "0  [{\"cast_id\": 242, \"character\": \"Jake Sully\", \"...   \n",
       "1  [{\"cast_id\": 4, \"character\": \"Captain Jack Spa...   \n",
       "\n",
       "                                                crew  \n",
       "0  [{\"credit_id\": \"52fe48009251416c750aca23\", \"de...  \n",
       "1  [{\"credit_id\": \"52fe4232c3a36847f800b579\", \"de...  "
      ]
     },
     "execution_count": 3,
     "metadata": {},
     "output_type": "execute_result"
    }
   ],
   "source": [
    "# Remove unwated columns\n",
    "df = df[['movie_id','title','overview','genres','keywords','cast','crew']]\n",
    "df.head(2)"
   ]
  },
  {
   "cell_type": "code",
   "execution_count": 4,
   "id": "0c82daad",
   "metadata": {},
   "outputs": [],
   "source": [
    "# Function that maps through the json string and fetches the desired parameters\n",
    "def myFunc(obj, parameter): \n",
    "    List = list(map(lambda y: str(y[parameter]).replace(' ', '_'), json.loads(obj)))\n",
    "    return List"
   ]
  },
  {
   "cell_type": "code",
   "execution_count": 5,
   "id": "9bd862c0",
   "metadata": {},
   "outputs": [],
   "source": [
    "# Fetching names of cast, genre and keywords\n",
    "df.cast = df.cast.apply(lambda x: myFunc(x, 'name')[:5])\n",
    "df.genres = df.genres.apply(lambda x: myFunc(x, 'name'))\n",
    "df.keywords = df.keywords.apply(lambda x: myFunc(x, 'name'))"
   ]
  },
  {
   "cell_type": "code",
   "execution_count": 6,
   "id": "2b73bd80",
   "metadata": {},
   "outputs": [],
   "source": [
    "# fetch names of writers and directors\n",
    "def getCrew(obj):\n",
    "    crewname = dict({'Director': [], 'Writer': []})\n",
    "    crew_object = json.loads(obj)\n",
    "    for crew in crew_object:\n",
    "        if not crew['job'] in crewname.keys():\n",
    "            continue\n",
    "        crewname[crew['job']].append(str(crew['name']).replace(' ', '_'))\n",
    "    return [crewname['Director'], crewname['Writer']]"
   ]
  },
  {
   "cell_type": "code",
   "execution_count": 7,
   "id": "da9bf7f4",
   "metadata": {},
   "outputs": [],
   "source": [
    "crew = df.crew.apply(lambda x: getCrew(x))\n",
    "\n",
    "df['Director'] = crew.apply(lambda x: list(set(x[0] + x[1])))\n",
    "\n",
    "df.drop(['crew'], axis='columns', inplace=True)"
   ]
  },
  {
   "cell_type": "code",
   "execution_count": 8,
   "id": "9827cff9",
   "metadata": {},
   "outputs": [],
   "source": [
    "df['overview'] = df.overview.apply(lambda x: str(x).split())"
   ]
  },
  {
   "cell_type": "code",
   "execution_count": 9,
   "id": "81669e13",
   "metadata": {},
   "outputs": [
    {
     "data": {
      "text/html": [
       "<div>\n",
       "<style scoped>\n",
       "    .dataframe tbody tr th:only-of-type {\n",
       "        vertical-align: middle;\n",
       "    }\n",
       "\n",
       "    .dataframe tbody tr th {\n",
       "        vertical-align: top;\n",
       "    }\n",
       "\n",
       "    .dataframe thead th {\n",
       "        text-align: right;\n",
       "    }\n",
       "</style>\n",
       "<table border=\"1\" class=\"dataframe\">\n",
       "  <thead>\n",
       "    <tr style=\"text-align: right;\">\n",
       "      <th></th>\n",
       "      <th>movie_id</th>\n",
       "      <th>title</th>\n",
       "      <th>overview</th>\n",
       "      <th>genres</th>\n",
       "      <th>keywords</th>\n",
       "      <th>cast</th>\n",
       "      <th>Director</th>\n",
       "    </tr>\n",
       "  </thead>\n",
       "  <tbody>\n",
       "    <tr>\n",
       "      <th>0</th>\n",
       "      <td>19995</td>\n",
       "      <td>Avatar</td>\n",
       "      <td>[In, the, 22nd, century,, a, paraplegic, Marin...</td>\n",
       "      <td>[Action, Adventure, Fantasy, Science_Fiction]</td>\n",
       "      <td>[culture_clash, future, space_war, space_colon...</td>\n",
       "      <td>[Sam_Worthington, Zoe_Saldana, Sigourney_Weave...</td>\n",
       "      <td>[James_Cameron]</td>\n",
       "    </tr>\n",
       "    <tr>\n",
       "      <th>1</th>\n",
       "      <td>285</td>\n",
       "      <td>Pirates of the Caribbean: At World's End</td>\n",
       "      <td>[Captain, Barbossa,, long, believed, to, be, d...</td>\n",
       "      <td>[Adventure, Fantasy, Action]</td>\n",
       "      <td>[ocean, drug_abuse, exotic_island, east_india_...</td>\n",
       "      <td>[Johnny_Depp, Orlando_Bloom, Keira_Knightley, ...</td>\n",
       "      <td>[Gore_Verbinski]</td>\n",
       "    </tr>\n",
       "  </tbody>\n",
       "</table>\n",
       "</div>"
      ],
      "text/plain": [
       "   movie_id                                     title  \\\n",
       "0     19995                                    Avatar   \n",
       "1       285  Pirates of the Caribbean: At World's End   \n",
       "\n",
       "                                            overview  \\\n",
       "0  [In, the, 22nd, century,, a, paraplegic, Marin...   \n",
       "1  [Captain, Barbossa,, long, believed, to, be, d...   \n",
       "\n",
       "                                          genres  \\\n",
       "0  [Action, Adventure, Fantasy, Science_Fiction]   \n",
       "1                   [Adventure, Fantasy, Action]   \n",
       "\n",
       "                                            keywords  \\\n",
       "0  [culture_clash, future, space_war, space_colon...   \n",
       "1  [ocean, drug_abuse, exotic_island, east_india_...   \n",
       "\n",
       "                                                cast          Director  \n",
       "0  [Sam_Worthington, Zoe_Saldana, Sigourney_Weave...   [James_Cameron]  \n",
       "1  [Johnny_Depp, Orlando_Bloom, Keira_Knightley, ...  [Gore_Verbinski]  "
      ]
     },
     "execution_count": 9,
     "metadata": {},
     "output_type": "execute_result"
    }
   ],
   "source": [
    "df.head(2)"
   ]
  },
  {
   "cell_type": "code",
   "execution_count": 10,
   "id": "f009fcda",
   "metadata": {},
   "outputs": [],
   "source": [
    "df['tags'] = df['overview'] + df['genres'] + df['keywords'] + df['cast'] + df['Director']"
   ]
  },
  {
   "cell_type": "code",
   "execution_count": 11,
   "id": "31a79a41",
   "metadata": {},
   "outputs": [],
   "source": [
    "from nltk.stem.porter import PorterStemmer\n",
    "ps = PorterStemmer()"
   ]
  },
  {
   "cell_type": "code",
   "execution_count": 12,
   "id": "f19b27d0",
   "metadata": {},
   "outputs": [],
   "source": [
    "# steming\n",
    "df['tags'] = df['tags'].apply(lambda x: list(map(ps.stem, x)))"
   ]
  },
  {
   "cell_type": "code",
   "execution_count": 13,
   "id": "998d637d",
   "metadata": {},
   "outputs": [],
   "source": [
    "df['tags'] = df['tags'].apply(lambda x: ' '.join(x).lower())"
   ]
  },
  {
   "cell_type": "code",
   "execution_count": 14,
   "id": "bd294e43",
   "metadata": {
    "scrolled": true
   },
   "outputs": [
    {
     "data": {
      "text/html": [
       "<div>\n",
       "<style scoped>\n",
       "    .dataframe tbody tr th:only-of-type {\n",
       "        vertical-align: middle;\n",
       "    }\n",
       "\n",
       "    .dataframe tbody tr th {\n",
       "        vertical-align: top;\n",
       "    }\n",
       "\n",
       "    .dataframe thead th {\n",
       "        text-align: right;\n",
       "    }\n",
       "</style>\n",
       "<table border=\"1\" class=\"dataframe\">\n",
       "  <thead>\n",
       "    <tr style=\"text-align: right;\">\n",
       "      <th></th>\n",
       "      <th>movie_id</th>\n",
       "      <th>title</th>\n",
       "      <th>tags</th>\n",
       "    </tr>\n",
       "  </thead>\n",
       "  <tbody>\n",
       "    <tr>\n",
       "      <th>0</th>\n",
       "      <td>19995</td>\n",
       "      <td>Avatar</td>\n",
       "      <td>in the 22nd century, a parapleg marin is dispa...</td>\n",
       "    </tr>\n",
       "    <tr>\n",
       "      <th>1</th>\n",
       "      <td>285</td>\n",
       "      <td>Pirates of the Caribbean: At World's End</td>\n",
       "      <td>captain barbossa, long believ to be dead, ha c...</td>\n",
       "    </tr>\n",
       "  </tbody>\n",
       "</table>\n",
       "</div>"
      ],
      "text/plain": [
       "   movie_id                                     title  \\\n",
       "0     19995                                    Avatar   \n",
       "1       285  Pirates of the Caribbean: At World's End   \n",
       "\n",
       "                                                tags  \n",
       "0  in the 22nd century, a parapleg marin is dispa...  \n",
       "1  captain barbossa, long believ to be dead, ha c...  "
      ]
     },
     "execution_count": 14,
     "metadata": {},
     "output_type": "execute_result"
    }
   ],
   "source": [
    "new_df = df.drop(columns=['overview','genres','keywords', 'cast', 'Director'])\n",
    "new_df.head(2)"
   ]
  },
  {
   "cell_type": "code",
   "execution_count": 15,
   "id": "c4922746",
   "metadata": {},
   "outputs": [],
   "source": [
    "# save the ouput\n",
    "new_df.to_csv('output/movies_dataframe.csv')"
   ]
  },
  {
   "cell_type": "code",
   "execution_count": 16,
   "id": "911e55e6",
   "metadata": {},
   "outputs": [],
   "source": [
    "from sklearn.feature_extraction.text import CountVectorizer\n",
    "cv = CountVectorizer(max_features=5000,stop_words='english')"
   ]
  },
  {
   "cell_type": "code",
   "execution_count": 17,
   "id": "d5f31889",
   "metadata": {},
   "outputs": [],
   "source": [
    "vector = cv.fit_transform(new_df['tags']).toarray()"
   ]
  },
  {
   "cell_type": "code",
   "execution_count": 18,
   "id": "64568986",
   "metadata": {},
   "outputs": [],
   "source": [
    "from sklearn.metrics.pairwise import cosine_similarity"
   ]
  },
  {
   "cell_type": "code",
   "execution_count": 19,
   "id": "4ef1567e",
   "metadata": {},
   "outputs": [],
   "source": [
    "similarity = cosine_similarity(vector)"
   ]
  },
  {
   "cell_type": "code",
   "execution_count": 20,
   "id": "688c8c28",
   "metadata": {},
   "outputs": [],
   "source": [
    "def getMostRelated(obj):\n",
    "    sortedlist = sorted(list(enumerate(obj)),reverse=True,key = lambda x: x[1])[1:31]\n",
    "    return list(map(lambda x: x[0] ,sortedlist))"
   ]
  },
  {
   "cell_type": "code",
   "execution_count": 21,
   "id": "87107f9e",
   "metadata": {},
   "outputs": [],
   "source": [
    "similarity = list(map(lambda x: getMostRelated(x) ,similarity.tolist()))"
   ]
  },
  {
   "cell_type": "code",
   "execution_count": 22,
   "id": "b8676cc5",
   "metadata": {},
   "outputs": [],
   "source": [
    "# recommendation function\n",
    "def recommend(movie):\n",
    "    index = new_df[new_df['title'] == movie].index[0]\n",
    "    distances = similarity[index]\n",
    "    print(f'{\"Recommendations\":.^41}')\n",
    "    for i in distances[:6]:\n",
    "        print(new_df.iloc[i].title)"
   ]
  },
  {
   "cell_type": "markdown",
   "id": "ec6eb18a",
   "metadata": {},
   "source": [
    "## Recommendations"
   ]
  },
  {
   "cell_type": "code",
   "execution_count": 23,
   "id": "e146f63b",
   "metadata": {},
   "outputs": [
    {
     "name": "stdout",
     "output_type": "stream",
     "text": [
      ".............Recommendations.............\n",
      "Hustle & Flow\n",
      "Tupac: Resurrection\n",
      "The R.M.\n",
      "You Got Served\n",
      "Gran Torino\n",
      "We Are Your Friends\n"
     ]
    }
   ],
   "source": [
    "recommend('8 Mile')"
   ]
  },
  {
   "cell_type": "markdown",
   "id": "29ebf2d9",
   "metadata": {},
   "source": [
    "### storing data "
   ]
  },
  {
   "cell_type": "code",
   "execution_count": 24,
   "id": "94cd55c4",
   "metadata": {},
   "outputs": [],
   "source": [
    "import joblib"
   ]
  },
  {
   "cell_type": "code",
   "execution_count": 25,
   "id": "947c44d7",
   "metadata": {},
   "outputs": [
    {
     "data": {
      "text/plain": [
       "['output/similarity']"
      ]
     },
     "execution_count": 25,
     "metadata": {},
     "output_type": "execute_result"
    }
   ],
   "source": [
    "joblib.dump(similarity, 'output/similarity')"
   ]
  }
 ],
 "metadata": {
  "kernelspec": {
   "display_name": "Python 3 (ipykernel)",
   "language": "python",
   "name": "python3"
  },
  "language_info": {
   "codemirror_mode": {
    "name": "ipython",
    "version": 3
   },
   "file_extension": ".py",
   "mimetype": "text/x-python",
   "name": "python",
   "nbconvert_exporter": "python",
   "pygments_lexer": "ipython3",
   "version": "3.9.13"
  },
  "varInspector": {
   "cols": {
    "lenName": 16,
    "lenType": 16,
    "lenVar": 40
   },
   "kernels_config": {
    "python": {
     "delete_cmd_postfix": "",
     "delete_cmd_prefix": "del ",
     "library": "var_list.py",
     "varRefreshCmd": "print(var_dic_list())"
    },
    "r": {
     "delete_cmd_postfix": ") ",
     "delete_cmd_prefix": "rm(",
     "library": "var_list.r",
     "varRefreshCmd": "cat(var_dic_list()) "
    }
   },
   "types_to_exclude": [
    "module",
    "function",
    "builtin_function_or_method",
    "instance",
    "_Feature"
   ],
   "window_display": false
  }
 },
 "nbformat": 4,
 "nbformat_minor": 5
}
