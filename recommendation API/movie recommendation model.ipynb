{
 "cells": [
  {
   "cell_type": "markdown",
   "id": "804052e9",
   "metadata": {},
   "source": [
    "# Movie Recommendation Model"
   ]
  },
  {
   "cell_type": "code",
   "execution_count": 1,
   "id": "44a93733",
   "metadata": {},
   "outputs": [],
   "source": [
    "# import dependencies\n",
    "import pandas as pd\n",
    "import json\n",
    "from sklearn.preprocessing import MinMaxScaler"
   ]
  },
  {
   "cell_type": "code",
   "execution_count": 2,
   "id": "2ce3ea1c",
   "metadata": {},
   "outputs": [],
   "source": [
    "# disable chained assignments\n",
    "pd.options.mode.chained_assignment = None "
   ]
  },
  {
   "cell_type": "code",
   "execution_count": 3,
   "id": "f8922c80",
   "metadata": {
    "scrolled": true
   },
   "outputs": [],
   "source": [
    "# import csv\n",
    "credits = pd.read_csv('tmdb_5000_credits.csv')\n",
    "movies = pd.read_csv('tmdb_5000_movies.csv')\n",
    "\n",
    "# merge into a single Dataframe\n",
    "mergedDataFrame = credits.merge(movies, on='title')"
   ]
  },
  {
   "cell_type": "code",
   "execution_count": 4,
   "id": "f06598f0",
   "metadata": {},
   "outputs": [
    {
     "data": {
      "text/html": [
       "<div>\n",
       "<style scoped>\n",
       "    .dataframe tbody tr th:only-of-type {\n",
       "        vertical-align: middle;\n",
       "    }\n",
       "\n",
       "    .dataframe tbody tr th {\n",
       "        vertical-align: top;\n",
       "    }\n",
       "\n",
       "    .dataframe thead th {\n",
       "        text-align: right;\n",
       "    }\n",
       "</style>\n",
       "<table border=\"1\" class=\"dataframe\">\n",
       "  <thead>\n",
       "    <tr style=\"text-align: right;\">\n",
       "      <th></th>\n",
       "      <th>movie_id</th>\n",
       "      <th>title</th>\n",
       "      <th>cast</th>\n",
       "      <th>crew</th>\n",
       "      <th>budget</th>\n",
       "      <th>genres</th>\n",
       "      <th>homepage</th>\n",
       "      <th>id</th>\n",
       "      <th>keywords</th>\n",
       "      <th>original_language</th>\n",
       "      <th>...</th>\n",
       "      <th>production_companies</th>\n",
       "      <th>production_countries</th>\n",
       "      <th>release_date</th>\n",
       "      <th>revenue</th>\n",
       "      <th>runtime</th>\n",
       "      <th>spoken_languages</th>\n",
       "      <th>status</th>\n",
       "      <th>tagline</th>\n",
       "      <th>vote_average</th>\n",
       "      <th>vote_count</th>\n",
       "    </tr>\n",
       "  </thead>\n",
       "  <tbody>\n",
       "    <tr>\n",
       "      <th>0</th>\n",
       "      <td>19995</td>\n",
       "      <td>Avatar</td>\n",
       "      <td>[{\"cast_id\": 242, \"character\": \"Jake Sully\", \"...</td>\n",
       "      <td>[{\"credit_id\": \"52fe48009251416c750aca23\", \"de...</td>\n",
       "      <td>237000000</td>\n",
       "      <td>[{\"id\": 28, \"name\": \"Action\"}, {\"id\": 12, \"nam...</td>\n",
       "      <td>http://www.avatarmovie.com/</td>\n",
       "      <td>19995</td>\n",
       "      <td>[{\"id\": 1463, \"name\": \"culture clash\"}, {\"id\":...</td>\n",
       "      <td>en</td>\n",
       "      <td>...</td>\n",
       "      <td>[{\"name\": \"Ingenious Film Partners\", \"id\": 289...</td>\n",
       "      <td>[{\"iso_3166_1\": \"US\", \"name\": \"United States o...</td>\n",
       "      <td>2009-12-10</td>\n",
       "      <td>2787965087</td>\n",
       "      <td>162.0</td>\n",
       "      <td>[{\"iso_639_1\": \"en\", \"name\": \"English\"}, {\"iso...</td>\n",
       "      <td>Released</td>\n",
       "      <td>Enter the World of Pandora.</td>\n",
       "      <td>7.2</td>\n",
       "      <td>11800</td>\n",
       "    </tr>\n",
       "    <tr>\n",
       "      <th>1</th>\n",
       "      <td>285</td>\n",
       "      <td>Pirates of the Caribbean: At World's End</td>\n",
       "      <td>[{\"cast_id\": 4, \"character\": \"Captain Jack Spa...</td>\n",
       "      <td>[{\"credit_id\": \"52fe4232c3a36847f800b579\", \"de...</td>\n",
       "      <td>300000000</td>\n",
       "      <td>[{\"id\": 12, \"name\": \"Adventure\"}, {\"id\": 14, \"...</td>\n",
       "      <td>http://disney.go.com/disneypictures/pirates/</td>\n",
       "      <td>285</td>\n",
       "      <td>[{\"id\": 270, \"name\": \"ocean\"}, {\"id\": 726, \"na...</td>\n",
       "      <td>en</td>\n",
       "      <td>...</td>\n",
       "      <td>[{\"name\": \"Walt Disney Pictures\", \"id\": 2}, {\"...</td>\n",
       "      <td>[{\"iso_3166_1\": \"US\", \"name\": \"United States o...</td>\n",
       "      <td>2007-05-19</td>\n",
       "      <td>961000000</td>\n",
       "      <td>169.0</td>\n",
       "      <td>[{\"iso_639_1\": \"en\", \"name\": \"English\"}]</td>\n",
       "      <td>Released</td>\n",
       "      <td>At the end of the world, the adventure begins.</td>\n",
       "      <td>6.9</td>\n",
       "      <td>4500</td>\n",
       "    </tr>\n",
       "  </tbody>\n",
       "</table>\n",
       "<p>2 rows × 23 columns</p>\n",
       "</div>"
      ],
      "text/plain": [
       "   movie_id                                     title  \\\n",
       "0     19995                                    Avatar   \n",
       "1       285  Pirates of the Caribbean: At World's End   \n",
       "\n",
       "                                                cast  \\\n",
       "0  [{\"cast_id\": 242, \"character\": \"Jake Sully\", \"...   \n",
       "1  [{\"cast_id\": 4, \"character\": \"Captain Jack Spa...   \n",
       "\n",
       "                                                crew     budget  \\\n",
       "0  [{\"credit_id\": \"52fe48009251416c750aca23\", \"de...  237000000   \n",
       "1  [{\"credit_id\": \"52fe4232c3a36847f800b579\", \"de...  300000000   \n",
       "\n",
       "                                              genres  \\\n",
       "0  [{\"id\": 28, \"name\": \"Action\"}, {\"id\": 12, \"nam...   \n",
       "1  [{\"id\": 12, \"name\": \"Adventure\"}, {\"id\": 14, \"...   \n",
       "\n",
       "                                       homepage     id  \\\n",
       "0                   http://www.avatarmovie.com/  19995   \n",
       "1  http://disney.go.com/disneypictures/pirates/    285   \n",
       "\n",
       "                                            keywords original_language  ...  \\\n",
       "0  [{\"id\": 1463, \"name\": \"culture clash\"}, {\"id\":...                en  ...   \n",
       "1  [{\"id\": 270, \"name\": \"ocean\"}, {\"id\": 726, \"na...                en  ...   \n",
       "\n",
       "                                production_companies  \\\n",
       "0  [{\"name\": \"Ingenious Film Partners\", \"id\": 289...   \n",
       "1  [{\"name\": \"Walt Disney Pictures\", \"id\": 2}, {\"...   \n",
       "\n",
       "                                production_countries  release_date  \\\n",
       "0  [{\"iso_3166_1\": \"US\", \"name\": \"United States o...    2009-12-10   \n",
       "1  [{\"iso_3166_1\": \"US\", \"name\": \"United States o...    2007-05-19   \n",
       "\n",
       "      revenue runtime                                   spoken_languages  \\\n",
       "0  2787965087   162.0  [{\"iso_639_1\": \"en\", \"name\": \"English\"}, {\"iso...   \n",
       "1   961000000   169.0           [{\"iso_639_1\": \"en\", \"name\": \"English\"}]   \n",
       "\n",
       "     status                                         tagline vote_average  \\\n",
       "0  Released                     Enter the World of Pandora.          7.2   \n",
       "1  Released  At the end of the world, the adventure begins.          6.9   \n",
       "\n",
       "  vote_count  \n",
       "0      11800  \n",
       "1       4500  \n",
       "\n",
       "[2 rows x 23 columns]"
      ]
     },
     "execution_count": 4,
     "metadata": {},
     "output_type": "execute_result"
    }
   ],
   "source": [
    "mergedDataFrame.head(2)"
   ]
  },
  {
   "cell_type": "code",
   "execution_count": 5,
   "id": "e0f23f9d",
   "metadata": {},
   "outputs": [
    {
     "data": {
      "text/plain": [
       "Index(['movie_id', 'title', 'cast', 'crew', 'budget', 'genres', 'homepage',\n",
       "       'id', 'keywords', 'original_language', 'original_title', 'overview',\n",
       "       'popularity', 'production_companies', 'production_countries',\n",
       "       'release_date', 'revenue', 'runtime', 'spoken_languages', 'status',\n",
       "       'tagline', 'vote_average', 'vote_count'],\n",
       "      dtype='object')"
      ]
     },
     "execution_count": 5,
     "metadata": {},
     "output_type": "execute_result"
    }
   ],
   "source": [
    "# column name\n",
    "mergedDataFrame.columns"
   ]
  },
  {
   "cell_type": "code",
   "execution_count": 6,
   "id": "bbacd294",
   "metadata": {},
   "outputs": [
    {
     "data": {
      "text/plain": [
       "movie_id                   0\n",
       "title                      0\n",
       "cast                       0\n",
       "crew                       0\n",
       "budget                     0\n",
       "genres                     0\n",
       "homepage                3096\n",
       "id                         0\n",
       "keywords                   0\n",
       "original_language          0\n",
       "original_title             0\n",
       "overview                   3\n",
       "popularity                 0\n",
       "production_companies       0\n",
       "production_countries       0\n",
       "release_date               1\n",
       "revenue                    0\n",
       "runtime                    2\n",
       "spoken_languages           0\n",
       "status                     0\n",
       "tagline                  844\n",
       "vote_average               0\n",
       "vote_count                 0\n",
       "dtype: int64"
      ]
     },
     "execution_count": 6,
     "metadata": {},
     "output_type": "execute_result"
    }
   ],
   "source": [
    "# number of Na values in each column\n",
    "mergedDataFrame.isna().sum()"
   ]
  },
  {
   "cell_type": "code",
   "execution_count": 7,
   "id": "9719c116",
   "metadata": {},
   "outputs": [],
   "source": [
    "# movie Ids Series\n",
    "movieIds = mergedDataFrame['movie_id']"
   ]
  },
  {
   "cell_type": "markdown",
   "id": "e5875422",
   "metadata": {},
   "source": [
    "### Vector Data Frame"
   ]
  },
  {
   "cell_type": "code",
   "execution_count": 8,
   "id": "5401824a",
   "metadata": {
    "scrolled": true
   },
   "outputs": [
    {
     "data": {
      "text/html": [
       "<div>\n",
       "<style scoped>\n",
       "    .dataframe tbody tr th:only-of-type {\n",
       "        vertical-align: middle;\n",
       "    }\n",
       "\n",
       "    .dataframe tbody tr th {\n",
       "        vertical-align: top;\n",
       "    }\n",
       "\n",
       "    .dataframe thead th {\n",
       "        text-align: right;\n",
       "    }\n",
       "</style>\n",
       "<table border=\"1\" class=\"dataframe\">\n",
       "  <thead>\n",
       "    <tr style=\"text-align: right;\">\n",
       "      <th></th>\n",
       "      <th>title</th>\n",
       "      <th>original_language</th>\n",
       "      <th>production_companies</th>\n",
       "      <th>production_countries</th>\n",
       "      <th>overview</th>\n",
       "      <th>genres</th>\n",
       "      <th>keywords</th>\n",
       "      <th>cast</th>\n",
       "      <th>crew</th>\n",
       "    </tr>\n",
       "  </thead>\n",
       "  <tbody>\n",
       "    <tr>\n",
       "      <th>0</th>\n",
       "      <td>Avatar</td>\n",
       "      <td>en</td>\n",
       "      <td>[{\"name\": \"Ingenious Film Partners\", \"id\": 289...</td>\n",
       "      <td>[{\"iso_3166_1\": \"US\", \"name\": \"United States o...</td>\n",
       "      <td>In the 22nd century, a paraplegic Marine is di...</td>\n",
       "      <td>[{\"id\": 28, \"name\": \"Action\"}, {\"id\": 12, \"nam...</td>\n",
       "      <td>[{\"id\": 1463, \"name\": \"culture clash\"}, {\"id\":...</td>\n",
       "      <td>[{\"cast_id\": 242, \"character\": \"Jake Sully\", \"...</td>\n",
       "      <td>[{\"credit_id\": \"52fe48009251416c750aca23\", \"de...</td>\n",
       "    </tr>\n",
       "    <tr>\n",
       "      <th>1</th>\n",
       "      <td>Pirates of the Caribbean: At World's End</td>\n",
       "      <td>en</td>\n",
       "      <td>[{\"name\": \"Walt Disney Pictures\", \"id\": 2}, {\"...</td>\n",
       "      <td>[{\"iso_3166_1\": \"US\", \"name\": \"United States o...</td>\n",
       "      <td>Captain Barbossa, long believed to be dead, ha...</td>\n",
       "      <td>[{\"id\": 12, \"name\": \"Adventure\"}, {\"id\": 14, \"...</td>\n",
       "      <td>[{\"id\": 270, \"name\": \"ocean\"}, {\"id\": 726, \"na...</td>\n",
       "      <td>[{\"cast_id\": 4, \"character\": \"Captain Jack Spa...</td>\n",
       "      <td>[{\"credit_id\": \"52fe4232c3a36847f800b579\", \"de...</td>\n",
       "    </tr>\n",
       "  </tbody>\n",
       "</table>\n",
       "</div>"
      ],
      "text/plain": [
       "                                      title original_language  \\\n",
       "0                                    Avatar                en   \n",
       "1  Pirates of the Caribbean: At World's End                en   \n",
       "\n",
       "                                production_companies  \\\n",
       "0  [{\"name\": \"Ingenious Film Partners\", \"id\": 289...   \n",
       "1  [{\"name\": \"Walt Disney Pictures\", \"id\": 2}, {\"...   \n",
       "\n",
       "                                production_countries  \\\n",
       "0  [{\"iso_3166_1\": \"US\", \"name\": \"United States o...   \n",
       "1  [{\"iso_3166_1\": \"US\", \"name\": \"United States o...   \n",
       "\n",
       "                                            overview  \\\n",
       "0  In the 22nd century, a paraplegic Marine is di...   \n",
       "1  Captain Barbossa, long believed to be dead, ha...   \n",
       "\n",
       "                                              genres  \\\n",
       "0  [{\"id\": 28, \"name\": \"Action\"}, {\"id\": 12, \"nam...   \n",
       "1  [{\"id\": 12, \"name\": \"Adventure\"}, {\"id\": 14, \"...   \n",
       "\n",
       "                                            keywords  \\\n",
       "0  [{\"id\": 1463, \"name\": \"culture clash\"}, {\"id\":...   \n",
       "1  [{\"id\": 270, \"name\": \"ocean\"}, {\"id\": 726, \"na...   \n",
       "\n",
       "                                                cast  \\\n",
       "0  [{\"cast_id\": 242, \"character\": \"Jake Sully\", \"...   \n",
       "1  [{\"cast_id\": 4, \"character\": \"Captain Jack Spa...   \n",
       "\n",
       "                                                crew  \n",
       "0  [{\"credit_id\": \"52fe48009251416c750aca23\", \"de...  \n",
       "1  [{\"credit_id\": \"52fe4232c3a36847f800b579\", \"de...  "
      ]
     },
     "execution_count": 8,
     "metadata": {},
     "output_type": "execute_result"
    }
   ],
   "source": [
    "# create vectorsDataFrame with relavent series\n",
    "vectorsDataFrame = mergedDataFrame[[ \n",
    "    'title',      \n",
    "    'original_language', 'production_companies', 'production_countries', \n",
    "    'overview',\n",
    "    'genres','keywords',\n",
    "    'cast','crew']]\n",
    "vectorsDataFrame.head(2)"
   ]
  },
  {
   "cell_type": "code",
   "execution_count": 9,
   "id": "0c82daad",
   "metadata": {},
   "outputs": [],
   "source": [
    "# Function that parses through the json string and fetches the desired parameters\n",
    "def jsonParser(obj, parameter): \n",
    "    List = list(map(lambda y: str(y[parameter]).replace(' ', '_'), json.loads(obj)))\n",
    "    return List"
   ]
  },
  {
   "cell_type": "code",
   "execution_count": 10,
   "id": "9bd862c0",
   "metadata": {},
   "outputs": [
    {
     "data": {
      "text/plain": [
       "0    [Sam_Worthington, Zoe_Saldana, Sigourney_Weave...\n",
       "1    [Johnny_Depp, Orlando_Bloom, Keira_Knightley, ...\n",
       "Name: cast, dtype: object"
      ]
     },
     "execution_count": 10,
     "metadata": {},
     "output_type": "execute_result"
    }
   ],
   "source": [
    "# Fetching first 5 names of cast\n",
    "vectorsDataFrame.cast = vectorsDataFrame.cast.apply(lambda x: jsonParser(x, 'name')[:5])\n",
    "vectorsDataFrame.cast.head(2)"
   ]
  },
  {
   "cell_type": "code",
   "execution_count": 11,
   "id": "f091b33a",
   "metadata": {},
   "outputs": [
    {
     "data": {
      "text/plain": [
       "0    [Action, Adventure, Fantasy, Science_Fiction]\n",
       "1                     [Adventure, Fantasy, Action]\n",
       "Name: genres, dtype: object"
      ]
     },
     "execution_count": 11,
     "metadata": {},
     "output_type": "execute_result"
    }
   ],
   "source": [
    "# Fetching names of genres\n",
    "vectorsDataFrame.genres = vectorsDataFrame.genres.apply(lambda x: jsonParser(x, 'name')[:5])\n",
    "vectorsDataFrame.genres.head(2)"
   ]
  },
  {
   "cell_type": "code",
   "execution_count": 12,
   "id": "39bff83e",
   "metadata": {},
   "outputs": [
    {
     "data": {
      "text/plain": [
       "0    [culture_clash, future, space_war, space_colon...\n",
       "1    [ocean, drug_abuse, exotic_island, east_india_...\n",
       "Name: keywords, dtype: object"
      ]
     },
     "execution_count": 12,
     "metadata": {},
     "output_type": "execute_result"
    }
   ],
   "source": [
    "# Fetching names of keywords\n",
    "vectorsDataFrame.keywords = vectorsDataFrame.keywords.apply(lambda x: jsonParser(x, 'name')[:5])\n",
    "vectorsDataFrame.keywords.head(2)"
   ]
  },
  {
   "cell_type": "code",
   "execution_count": 13,
   "id": "5a6fb096",
   "metadata": {},
   "outputs": [
    {
     "data": {
      "text/plain": [
       "0    [Ingenious_Film_Partners, Twentieth_Century_Fo...\n",
       "1    [Walt_Disney_Pictures, Jerry_Bruckheimer_Films...\n",
       "Name: production_companies, dtype: object"
      ]
     },
     "execution_count": 13,
     "metadata": {},
     "output_type": "execute_result"
    }
   ],
   "source": [
    "# Fetching names of production companies\n",
    "vectorsDataFrame.production_companies = vectorsDataFrame.production_companies.apply(lambda x: jsonParser(x, 'name')[:5])\n",
    "vectorsDataFrame.production_companies.head(2)"
   ]
  },
  {
   "cell_type": "code",
   "execution_count": 14,
   "id": "d7e3ff6a",
   "metadata": {},
   "outputs": [
    {
     "data": {
      "text/plain": [
       "0    [United_States_of_America, United_Kingdom]\n",
       "1                    [United_States_of_America]\n",
       "Name: production_countries, dtype: object"
      ]
     },
     "execution_count": 14,
     "metadata": {},
     "output_type": "execute_result"
    }
   ],
   "source": [
    "# Fetching names of production companies\n",
    "vectorsDataFrame.production_countries = vectorsDataFrame.production_countries.apply(lambda x: jsonParser(x, 'name'))\n",
    "vectorsDataFrame.production_countries.head(2)"
   ]
  },
  {
   "cell_type": "code",
   "execution_count": 15,
   "id": "d82aa63b",
   "metadata": {},
   "outputs": [
    {
     "data": {
      "text/plain": [
       "0    [en]\n",
       "1    [en]\n",
       "Name: original_language, dtype: object"
      ]
     },
     "execution_count": 15,
     "metadata": {},
     "output_type": "execute_result"
    }
   ],
   "source": [
    "# convert original language to list\n",
    "vectorsDataFrame.original_language = vectorsDataFrame.original_language.apply(lambda x: [x])\n",
    "vectorsDataFrame.original_language.head(2)"
   ]
  },
  {
   "cell_type": "code",
   "execution_count": 16,
   "id": "2b73bd80",
   "metadata": {},
   "outputs": [],
   "source": [
    "# fetch names of writers and directors\n",
    "def getCrew(obj):\n",
    "    crewname = dict({'Director': [], 'Writer': []})\n",
    "    crew_object = json.loads(obj)\n",
    "    for crew in crew_object:\n",
    "        if not crew['job'] in crewname.keys():\n",
    "            continue\n",
    "        crewname[crew['job']].append(str(crew['name']).replace(' ', '_'))\n",
    "    return [crewname['Director'], crewname['Writer']]"
   ]
  },
  {
   "cell_type": "code",
   "execution_count": 17,
   "id": "da9bf7f4",
   "metadata": {},
   "outputs": [],
   "source": [
    "crew = vectorsDataFrame.crew.apply(lambda x: getCrew(x))\n",
    "\n",
    "vectorsDataFrame['Director'] = crew.apply(lambda x: list(set(x[0] + x[1])))\n",
    "\n",
    "vectorsDataFrame.drop(['crew'], axis='columns', inplace=True)"
   ]
  },
  {
   "cell_type": "code",
   "execution_count": 18,
   "id": "9827cff9",
   "metadata": {},
   "outputs": [],
   "source": [
    "vectorsDataFrame['overview'] = vectorsDataFrame.overview.apply(lambda x: str(x).split())"
   ]
  },
  {
   "cell_type": "code",
   "execution_count": 19,
   "id": "81669e13",
   "metadata": {},
   "outputs": [
    {
     "data": {
      "text/html": [
       "<div>\n",
       "<style scoped>\n",
       "    .dataframe tbody tr th:only-of-type {\n",
       "        vertical-align: middle;\n",
       "    }\n",
       "\n",
       "    .dataframe tbody tr th {\n",
       "        vertical-align: top;\n",
       "    }\n",
       "\n",
       "    .dataframe thead th {\n",
       "        text-align: right;\n",
       "    }\n",
       "</style>\n",
       "<table border=\"1\" class=\"dataframe\">\n",
       "  <thead>\n",
       "    <tr style=\"text-align: right;\">\n",
       "      <th></th>\n",
       "      <th>title</th>\n",
       "      <th>original_language</th>\n",
       "      <th>production_companies</th>\n",
       "      <th>production_countries</th>\n",
       "      <th>overview</th>\n",
       "      <th>genres</th>\n",
       "      <th>keywords</th>\n",
       "      <th>cast</th>\n",
       "      <th>Director</th>\n",
       "    </tr>\n",
       "  </thead>\n",
       "  <tbody>\n",
       "    <tr>\n",
       "      <th>0</th>\n",
       "      <td>Avatar</td>\n",
       "      <td>[en]</td>\n",
       "      <td>[Ingenious_Film_Partners, Twentieth_Century_Fo...</td>\n",
       "      <td>[United_States_of_America, United_Kingdom]</td>\n",
       "      <td>[In, the, 22nd, century,, a, paraplegic, Marin...</td>\n",
       "      <td>[Action, Adventure, Fantasy, Science_Fiction]</td>\n",
       "      <td>[culture_clash, future, space_war, space_colon...</td>\n",
       "      <td>[Sam_Worthington, Zoe_Saldana, Sigourney_Weave...</td>\n",
       "      <td>[James_Cameron]</td>\n",
       "    </tr>\n",
       "    <tr>\n",
       "      <th>1</th>\n",
       "      <td>Pirates of the Caribbean: At World's End</td>\n",
       "      <td>[en]</td>\n",
       "      <td>[Walt_Disney_Pictures, Jerry_Bruckheimer_Films...</td>\n",
       "      <td>[United_States_of_America]</td>\n",
       "      <td>[Captain, Barbossa,, long, believed, to, be, d...</td>\n",
       "      <td>[Adventure, Fantasy, Action]</td>\n",
       "      <td>[ocean, drug_abuse, exotic_island, east_india_...</td>\n",
       "      <td>[Johnny_Depp, Orlando_Bloom, Keira_Knightley, ...</td>\n",
       "      <td>[Gore_Verbinski]</td>\n",
       "    </tr>\n",
       "  </tbody>\n",
       "</table>\n",
       "</div>"
      ],
      "text/plain": [
       "                                      title original_language  \\\n",
       "0                                    Avatar              [en]   \n",
       "1  Pirates of the Caribbean: At World's End              [en]   \n",
       "\n",
       "                                production_companies  \\\n",
       "0  [Ingenious_Film_Partners, Twentieth_Century_Fo...   \n",
       "1  [Walt_Disney_Pictures, Jerry_Bruckheimer_Films...   \n",
       "\n",
       "                         production_countries  \\\n",
       "0  [United_States_of_America, United_Kingdom]   \n",
       "1                  [United_States_of_America]   \n",
       "\n",
       "                                            overview  \\\n",
       "0  [In, the, 22nd, century,, a, paraplegic, Marin...   \n",
       "1  [Captain, Barbossa,, long, believed, to, be, d...   \n",
       "\n",
       "                                          genres  \\\n",
       "0  [Action, Adventure, Fantasy, Science_Fiction]   \n",
       "1                   [Adventure, Fantasy, Action]   \n",
       "\n",
       "                                            keywords  \\\n",
       "0  [culture_clash, future, space_war, space_colon...   \n",
       "1  [ocean, drug_abuse, exotic_island, east_india_...   \n",
       "\n",
       "                                                cast          Director  \n",
       "0  [Sam_Worthington, Zoe_Saldana, Sigourney_Weave...   [James_Cameron]  \n",
       "1  [Johnny_Depp, Orlando_Bloom, Keira_Knightley, ...  [Gore_Verbinski]  "
      ]
     },
     "execution_count": 19,
     "metadata": {},
     "output_type": "execute_result"
    }
   ],
   "source": [
    "vectorsDataFrame.head(2)"
   ]
  },
  {
   "cell_type": "code",
   "execution_count": 20,
   "id": "f009fcda",
   "metadata": {},
   "outputs": [],
   "source": [
    "vectorsDataFrame['tags'] = vectorsDataFrame['original_language'] + vectorsDataFrame['production_companies'] + \\\n",
    "                           vectorsDataFrame['production_countries'] + vectorsDataFrame['overview'] + \\\n",
    "                           vectorsDataFrame['genres'] + vectorsDataFrame['keywords'] + \\\n",
    "                           vectorsDataFrame['cast'] + vectorsDataFrame['Director']"
   ]
  },
  {
   "cell_type": "code",
   "execution_count": 21,
   "id": "31a79a41",
   "metadata": {},
   "outputs": [],
   "source": [
    "from nltk.stem.porter import PorterStemmer\n",
    "ps = PorterStemmer()"
   ]
  },
  {
   "cell_type": "code",
   "execution_count": 22,
   "id": "f19b27d0",
   "metadata": {},
   "outputs": [],
   "source": [
    "# steming\n",
    "vectorsDataFrame['tags'] = vectorsDataFrame['tags'].apply(lambda x: list(map(ps.stem, x)))"
   ]
  },
  {
   "cell_type": "code",
   "execution_count": 23,
   "id": "998d637d",
   "metadata": {},
   "outputs": [],
   "source": [
    "vectorsDataFrame['tags'] = vectorsDataFrame['tags'].apply(lambda x: ' '.join(x).lower())"
   ]
  },
  {
   "cell_type": "code",
   "execution_count": 24,
   "id": "bd294e43",
   "metadata": {
    "scrolled": true
   },
   "outputs": [
    {
     "data": {
      "text/html": [
       "<div>\n",
       "<style scoped>\n",
       "    .dataframe tbody tr th:only-of-type {\n",
       "        vertical-align: middle;\n",
       "    }\n",
       "\n",
       "    .dataframe tbody tr th {\n",
       "        vertical-align: top;\n",
       "    }\n",
       "\n",
       "    .dataframe thead th {\n",
       "        text-align: right;\n",
       "    }\n",
       "</style>\n",
       "<table border=\"1\" class=\"dataframe\">\n",
       "  <thead>\n",
       "    <tr style=\"text-align: right;\">\n",
       "      <th></th>\n",
       "      <th>title</th>\n",
       "      <th>tags</th>\n",
       "    </tr>\n",
       "  </thead>\n",
       "  <tbody>\n",
       "    <tr>\n",
       "      <th>0</th>\n",
       "      <td>Avatar</td>\n",
       "      <td>en ingenious_film_partn twentieth_century_fox_...</td>\n",
       "    </tr>\n",
       "    <tr>\n",
       "      <th>1</th>\n",
       "      <td>Pirates of the Caribbean: At World's End</td>\n",
       "      <td>en walt_disney_pictur jerry_bruckheimer_film s...</td>\n",
       "    </tr>\n",
       "  </tbody>\n",
       "</table>\n",
       "</div>"
      ],
      "text/plain": [
       "                                      title  \\\n",
       "0                                    Avatar   \n",
       "1  Pirates of the Caribbean: At World's End   \n",
       "\n",
       "                                                tags  \n",
       "0  en ingenious_film_partn twentieth_century_fox_...  \n",
       "1  en walt_disney_pictur jerry_bruckheimer_film s...  "
      ]
     },
     "execution_count": 24,
     "metadata": {},
     "output_type": "execute_result"
    }
   ],
   "source": [
    "vectorsDataFrame.drop(columns=['original_language', 'production_companies', 'production_countries', \n",
    "                               'overview',\n",
    "                               'genres','keywords',\n",
    "                               'cast', 'Director'], inplace= True)\n",
    "vectorsDataFrame.head(2)"
   ]
  },
  {
   "cell_type": "markdown",
   "id": "4be33047",
   "metadata": {},
   "source": [
    "### Merge"
   ]
  },
  {
   "cell_type": "code",
   "execution_count": 25,
   "id": "6248259c",
   "metadata": {},
   "outputs": [
    {
     "data": {
      "text/html": [
       "<div>\n",
       "<style scoped>\n",
       "    .dataframe tbody tr th:only-of-type {\n",
       "        vertical-align: middle;\n",
       "    }\n",
       "\n",
       "    .dataframe tbody tr th {\n",
       "        vertical-align: top;\n",
       "    }\n",
       "\n",
       "    .dataframe thead th {\n",
       "        text-align: right;\n",
       "    }\n",
       "</style>\n",
       "<table border=\"1\" class=\"dataframe\">\n",
       "  <thead>\n",
       "    <tr style=\"text-align: right;\">\n",
       "      <th></th>\n",
       "      <th>movie_id</th>\n",
       "      <th>title</th>\n",
       "      <th>tags</th>\n",
       "    </tr>\n",
       "  </thead>\n",
       "  <tbody>\n",
       "    <tr>\n",
       "      <th>0</th>\n",
       "      <td>19995</td>\n",
       "      <td>Avatar</td>\n",
       "      <td>en ingenious_film_partn twentieth_century_fox_...</td>\n",
       "    </tr>\n",
       "    <tr>\n",
       "      <th>1</th>\n",
       "      <td>285</td>\n",
       "      <td>Pirates of the Caribbean: At World's End</td>\n",
       "      <td>en walt_disney_pictur jerry_bruckheimer_film s...</td>\n",
       "    </tr>\n",
       "    <tr>\n",
       "      <th>2</th>\n",
       "      <td>206647</td>\n",
       "      <td>Spectre</td>\n",
       "      <td>en columbia_pictur danjaq b24 united_kingdom u...</td>\n",
       "    </tr>\n",
       "    <tr>\n",
       "      <th>3</th>\n",
       "      <td>49026</td>\n",
       "      <td>The Dark Knight Rises</td>\n",
       "      <td>en legendary_pictur warner_bros. dc_entertain ...</td>\n",
       "    </tr>\n",
       "    <tr>\n",
       "      <th>4</th>\n",
       "      <td>49529</td>\n",
       "      <td>John Carter</td>\n",
       "      <td>en walt_disney_pictur united_states_of_america...</td>\n",
       "    </tr>\n",
       "  </tbody>\n",
       "</table>\n",
       "</div>"
      ],
      "text/plain": [
       "   movie_id                                     title  \\\n",
       "0     19995                                    Avatar   \n",
       "1       285  Pirates of the Caribbean: At World's End   \n",
       "2    206647                                   Spectre   \n",
       "3     49026                     The Dark Knight Rises   \n",
       "4     49529                               John Carter   \n",
       "\n",
       "                                                tags  \n",
       "0  en ingenious_film_partn twentieth_century_fox_...  \n",
       "1  en walt_disney_pictur jerry_bruckheimer_film s...  \n",
       "2  en columbia_pictur danjaq b24 united_kingdom u...  \n",
       "3  en legendary_pictur warner_bros. dc_entertain ...  \n",
       "4  en walt_disney_pictur united_states_of_america...  "
      ]
     },
     "execution_count": 25,
     "metadata": {},
     "output_type": "execute_result"
    }
   ],
   "source": [
    "DataFrame = pd.DataFrame()\n",
    "DataFrame['movie_id'] = movieIds\n",
    "DataFrame = pd.concat([DataFrame, vectorsDataFrame], axis='columns')\n",
    "\n",
    "DataFrame.head()"
   ]
  },
  {
   "cell_type": "code",
   "execution_count": 26,
   "id": "c4922746",
   "metadata": {},
   "outputs": [],
   "source": [
    "# save the ouput\n",
    "DataFrame.to_csv('output/movies_dataframe.csv')"
   ]
  },
  {
   "cell_type": "markdown",
   "id": "138d0db7",
   "metadata": {},
   "source": [
    "### Vectorization"
   ]
  },
  {
   "cell_type": "code",
   "execution_count": 27,
   "id": "911e55e6",
   "metadata": {},
   "outputs": [],
   "source": [
    "from sklearn.feature_extraction.text import CountVectorizer\n",
    "cv = CountVectorizer(max_features=5000,stop_words='english')"
   ]
  },
  {
   "cell_type": "code",
   "execution_count": 28,
   "id": "d5f31889",
   "metadata": {},
   "outputs": [],
   "source": [
    "vector = cv.fit_transform(DataFrame['tags']).toarray()"
   ]
  },
  {
   "cell_type": "code",
   "execution_count": 29,
   "id": "64568986",
   "metadata": {},
   "outputs": [],
   "source": [
    "from sklearn.metrics.pairwise import cosine_similarity"
   ]
  },
  {
   "cell_type": "code",
   "execution_count": 30,
   "id": "4ef1567e",
   "metadata": {},
   "outputs": [],
   "source": [
    "similarity = cosine_similarity(vector)"
   ]
  },
  {
   "cell_type": "code",
   "execution_count": 31,
   "id": "688c8c28",
   "metadata": {},
   "outputs": [],
   "source": [
    "def getMostRelated(obj):\n",
    "    sortedlist = sorted(list(enumerate(obj)),reverse=True,key = lambda x: x[1])[1:31]\n",
    "    return list(map(lambda x: x[0] ,sortedlist))"
   ]
  },
  {
   "cell_type": "code",
   "execution_count": 32,
   "id": "87107f9e",
   "metadata": {},
   "outputs": [],
   "source": [
    "similarity = list(map(lambda x: getMostRelated(x) ,similarity.tolist()))"
   ]
  },
  {
   "cell_type": "markdown",
   "id": "e5b4d25c",
   "metadata": {},
   "source": [
    "## Recommendations"
   ]
  },
  {
   "cell_type": "code",
   "execution_count": 33,
   "id": "b8676cc5",
   "metadata": {},
   "outputs": [],
   "source": [
    "# recommendation function\n",
    "def recommend(movie):\n",
    "    index = DataFrame[DataFrame['title'] == movie].index[0]\n",
    "    distances = similarity[index]\n",
    "    print(f'{\"Recommendations\":.^41}')\n",
    "    for i in distances[:6]:\n",
    "        print(DataFrame.iloc[i].title)"
   ]
  },
  {
   "cell_type": "code",
   "execution_count": 34,
   "id": "e146f63b",
   "metadata": {},
   "outputs": [
    {
     "name": "stdout",
     "output_type": "stream",
     "text": [
      ".............Recommendations.............\n",
      "The Dark Knight\n",
      "Batman Begins\n",
      "Batman\n",
      "Batman Forever\n",
      "Batman\n",
      "Nighthawks\n"
     ]
    }
   ],
   "source": [
    "recommend('The Dark Knight Rises')"
   ]
  },
  {
   "cell_type": "code",
   "execution_count": 35,
   "id": "f0ca2856",
   "metadata": {},
   "outputs": [
    {
     "name": "stdout",
     "output_type": "stream",
     "text": [
      ".............Recommendations.............\n",
      "Skyfall\n",
      "Quantum of Solace\n",
      "Never Say Never Again\n",
      "Diamonds Are Forever\n",
      "From Russia with Love\n",
      "On Her Majesty's Secret Service\n"
     ]
    }
   ],
   "source": [
    "recommend('Spectre')"
   ]
  },
  {
   "cell_type": "code",
   "execution_count": 36,
   "id": "191fb380",
   "metadata": {},
   "outputs": [
    {
     "name": "stdout",
     "output_type": "stream",
     "text": [
      ".............Recommendations.............\n",
      "Hustle & Flow\n",
      "Tupac: Resurrection\n",
      "You Got Served\n",
      "Blue Like Jazz\n",
      "I Origins\n",
      "We Are Your Friends\n"
     ]
    }
   ],
   "source": [
    "recommend('8 Mile')"
   ]
  },
  {
   "cell_type": "markdown",
   "id": "29ebf2d9",
   "metadata": {},
   "source": [
    "### storing data "
   ]
  },
  {
   "cell_type": "code",
   "execution_count": 37,
   "id": "94cd55c4",
   "metadata": {},
   "outputs": [],
   "source": [
    "import joblib"
   ]
  },
  {
   "cell_type": "code",
   "execution_count": 38,
   "id": "947c44d7",
   "metadata": {},
   "outputs": [
    {
     "data": {
      "text/plain": [
       "['output/similarity']"
      ]
     },
     "execution_count": 38,
     "metadata": {},
     "output_type": "execute_result"
    }
   ],
   "source": [
    "joblib.dump(similarity, 'output/similarity')"
   ]
  }
 ],
 "metadata": {
  "kernelspec": {
   "display_name": "Python 3 (ipykernel)",
   "language": "python",
   "name": "python3"
  },
  "language_info": {
   "codemirror_mode": {
    "name": "ipython",
    "version": 3
   },
   "file_extension": ".py",
   "mimetype": "text/x-python",
   "name": "python",
   "nbconvert_exporter": "python",
   "pygments_lexer": "ipython3",
   "version": "3.9.13"
  },
  "varInspector": {
   "cols": {
    "lenName": 16,
    "lenType": 16,
    "lenVar": 40
   },
   "kernels_config": {
    "python": {
     "delete_cmd_postfix": "",
     "delete_cmd_prefix": "del ",
     "library": "var_list.py",
     "varRefreshCmd": "print(var_dic_list())"
    },
    "r": {
     "delete_cmd_postfix": ") ",
     "delete_cmd_prefix": "rm(",
     "library": "var_list.r",
     "varRefreshCmd": "cat(var_dic_list()) "
    }
   },
   "types_to_exclude": [
    "module",
    "function",
    "builtin_function_or_method",
    "instance",
    "_Feature"
   ],
   "window_display": false
  }
 },
 "nbformat": 4,
 "nbformat_minor": 5
}
